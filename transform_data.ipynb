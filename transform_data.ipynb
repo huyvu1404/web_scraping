{
 "cells": [
  {
   "cell_type": "code",
   "execution_count": 1,
   "metadata": {},
   "outputs": [],
   "source": [
    "from pyspark.sql import SparkSession\n",
    "import os"
   ]
  },
  {
   "cell_type": "code",
   "execution_count": 2,
   "metadata": {},
   "outputs": [
    {
     "name": "stderr",
     "output_type": "stream",
     "text": [
      "your 131072x1 screen size is bogus. expect trouble\n",
      "24/11/14 13:33:38 WARN Utils: Your hostname, Huy resolves to a loopback address: 127.0.1.1; using 10.255.255.254 instead (on interface lo)\n",
      "24/11/14 13:33:38 WARN Utils: Set SPARK_LOCAL_IP if you need to bind to another address\n",
      "Setting default log level to \"WARN\".\n",
      "To adjust logging level use sc.setLogLevel(newLevel). For SparkR, use setLogLevel(newLevel).\n",
      "24/11/14 13:33:39 WARN NativeCodeLoader: Unable to load native-hadoop library for your platform... using builtin-java classes where applicable\n"
     ]
    }
   ],
   "source": [
    "spark = SparkSession.builder.appName(\"Spark-Transform-Data\").getOrCreate()\n",
    "sc = spark.sparkContext"
   ]
  },
  {
   "cell_type": "markdown",
   "metadata": {},
   "source": [
    "### Xây dựng hàm đọc và hàm biến đổi dữ liệu"
   ]
  },
  {
   "cell_type": "code",
   "execution_count": 3,
   "metadata": {},
   "outputs": [],
   "source": [
    "def load_data(product_type):\n",
    "    \"\"\"Đọc dữ liệu từ máy và lưu dưới dạng Spark DataFrame.\n",
    "\n",
    "    Args:\n",
    "        product_type (str): Loại sản phẩm\n",
    "\n",
    "    Returns:\n",
    "        tuple: Gồm hai Spark DataFrames:\n",
    "               - `current_df`: DataFrame chứa dữ liệu hiện tại\n",
    "               - `previous_df`: DataFrame chứa dữ liệu từ lần chạy trước (hoặc None nếu không tồn tại)\n",
    "    \"\"\"\n",
    "    previous_df = spark.read.csv(f'./data/raw/last_run/tgdd_{product_type}_data.csv', header=True) \\\n",
    "                     if os.path.exists(f'./data/raw/last_run/tgdd_{product_type}_data.csv') else None\n",
    "    current_df = spark.read.csv(f'./data/raw/tgdd_{product_type}_data.csv', header=True)\n",
    "    \n",
    "    return current_df, previous_df\n",
    "   "
   ]
  },
  {
   "cell_type": "code",
   "execution_count": 4,
   "metadata": {},
   "outputs": [],
   "source": [
    "from functions import string_to_int_udf, split_name_product_udf, convert_storage_udf\n",
    "import pyspark.sql.functions as F\n",
    "\n",
    "def transform_data(spark_df, product_type):\n",
    "    \"\"\"Biến đổi dữ liệu\n",
    "\n",
    "    Args:\n",
    "        spark_df (Spark DataFrame): DataFrame chứa dữ liệu cần được biến đổi\n",
    "        product_type (str): Loại sản phẩm\n",
    "\n",
    "    Returns:\n",
    "        Spark DataFrame: Dữ liệu sau khi được biến đổi.\n",
    "    \"\"\"    \n",
    "    transformed_spark_df = spark_df.withColumn(\"name_and_core\", split_name_product_udf(spark_df.name))\n",
    "    transformed_spark_df = transformed_spark_df.withColumn(\"Name\", F.col(\"name_and_core.names\")) \\\n",
    "                                                 .withColumn(\"Core\", F.col(\"name_and_core.cores\")) \n",
    "        \n",
    "    transformed_spark_df= transformed_spark_df.withColumn(\"OldPrice\", string_to_int_udf(F.col(\"old_price\")))\n",
    "    transformed_spark_df= transformed_spark_df.withColumn(\"CurrentPrice\", string_to_int_udf(F.col(\"current_price\")))\n",
    "    transformed_spark_df= transformed_spark_df.withColumn(\"GiftValue\", string_to_int_udf(F.col(\"gift\")))\n",
    "    transformed_spark_df= transformed_spark_df.withColumnRenamed('brand', 'Brand')\\\n",
    "                                        .withColumnRenamed('total_rating', 'TotalRating')\\\n",
    "                                        .withColumnRenamed('avg_score', 'AverageScore')\\\n",
    "                                        .withColumnRenamed('link', 'ProductLink')\n",
    "                                        \n",
    "    transformed_spark_df = transformed_spark_df.withColumn('DiscountPercent', F.round(((F.col(\"OldPrice\") - F.col(\"CurrentPrice\")) / F.col(\"OldPrice\") * 100), 2))\n",
    "    transformed_spark_df = transformed_spark_df.orderBy(['Name', 'CurrentPrice'], ascending = [1, 0])\\\n",
    "                                         .withColumn(\"ProductType\", F.lit('Laptop'))\\\n",
    "                                         .withColumn('Brand', F.when(transformed_spark_df.Brand == 'MacBook', 'Apple').otherwise(transformed_spark_df.Brand))\n",
    "    if product_type == 'laptop':                                            \n",
    "        transformed_spark_df= transformed_spark_df.withColumn(\"RAM\", convert_storage_udf(F.col(\"ram\")))\n",
    "        transformed_spark_df= transformed_spark_df.withColumn(\"SSD\", convert_storage_udf(F.col(\"ssd\")))\n",
    "        transformed_spark_df = transformed_spark_df.select(['Name', 'Brand', 'ProductType', 'Core', 'RAM', 'SSD', 'OldPrice', 'CurrentPrice', \\\n",
    "                                                            \"DiscountPercent\", \"GiftValue\", 'TotalRating', 'AverageScore', 'ProductLink'])\n",
    "    else:\n",
    "        transformed_spark_df = transformed_spark_df.withColumnRenamed('screen', 'Screen')\n",
    "        transformed_spark_df = transformed_spark_df.select(['Name', 'ProductType', 'Brand', 'Screen', 'OldPrice', 'CurrentPrice', \\\n",
    "                                                           \"DiscountPercent\", 'GiftValue', 'TotalRating', 'AverageScore', 'ProductLink'])\n",
    "    \n",
    "    return transformed_spark_df"
   ]
  },
  {
   "cell_type": "markdown",
   "metadata": {},
   "source": [
    "#### Danh mục laptop"
   ]
  },
  {
   "cell_type": "code",
   "execution_count": 5,
   "metadata": {},
   "outputs": [
    {
     "name": "stderr",
     "output_type": "stream",
     "text": [
      "                                                                                \r"
     ]
    },
    {
     "name": "stdout",
     "output_type": "stream",
     "text": [
      "+-----------------------------------+------+-----------+-------------+---+----+---------+------------+---------------+---------+-----------+------------+------------------------------------------------------------------------------------+\n",
      "|Name                               |Brand |ProductType|Core         |RAM|SSD |OldPrice |CurrentPrice|DiscountPercent|GiftValue|TotalRating|AverageScore|ProductLink                                                                         |\n",
      "+-----------------------------------+------+-----------+-------------+---+----+---------+------------+---------------+---------+-----------+------------+------------------------------------------------------------------------------------+\n",
      "|Lenovo Gaming LOQ 15ARP9           |Lenovo|Laptop     |R7 7435HS    |24 |512 |29490000 |26990000    |8.48           |NULL     |0          |0.0         |https://www.thegioididong.com/laptop/lenovo-loq-15arp9-r7-83jc0040vn                |\n",
      "|Lenovo Gaming LOQ 15IAX9           |Lenovo|Laptop     |i5 12450HX   |24 |512 |25490000 |22990000    |9.81           |NULL     |0          |0.0         |https://www.thegioididong.com/laptop/lenovo-loq-15iax9-i5-83gs00d9vn                |\n",
      "|Lenovo Gaming LOQ 15IAX9           |Lenovo|Laptop     |i5 12450HX   |16 |512 |24990000 |21990000    |12.0           |NULL     |0          |0.0         |https://www.thegioididong.com/laptop/lenovo-loq-gaming-15iax9-i5-83gs000jvn         |\n",
      "|Lenovo Gaming LOQ 15IAX9           |Lenovo|Laptop     |i5 12450HX   |24 |512 |23490000 |20890000    |11.07          |NULL     |0          |0.0         |https://www.thegioididong.com/laptop/lenovo-loq-15iax9-i5-83gs00dbvn                |\n",
      "|Lenovo Gaming LOQ 15IRX9           |Lenovo|Laptop     |i7 13650HX   |16 |512 |32990000 |29890000    |9.4            |NULL     |0          |0.0         |https://www.thegioididong.com/laptop/lenovo-loq-15irx9-i7-83dv00d5vn                |\n",
      "|Lenovo Gaming Legion 5 16IRX9      |Lenovo|Laptop     |i7 14650HX   |16 |1024|45990000 |42990000    |6.52           |NULL     |0          |0.0         |https://www.thegioididong.com/laptop/lenovo-legion-5-16irx9-i7-83dg0051vn           |\n",
      "|Lenovo Gaming Legion Pro 5 16IRX9  |Lenovo|Laptop     |i9 14900HX   |32 |1024|56990000 |54990000    |3.51           |NULL     |0          |0.0         |https://www.thegioididong.com/laptop/lenovo-legion-pro-5-16irx9-i9-83df0046vn       |\n",
      "|Lenovo Gaming Legion Pro 5 16IRX9  |Lenovo|Laptop     |i9 14900HX   |32 |1024|49990000 |47990000    |4.0            |NULL     |0          |0.0         |https://www.thegioididong.com/laptop/lenovo-legion-pro-5-16irx9-i9-83df0047vn       |\n",
      "|Lenovo Gaming Legion Pro 7 16IRX9H |Lenovo|Laptop     |i9 14900HX   |32 |1024|106990000|96990000    |9.35           |NULL     |0          |0.0         |https://www.thegioididong.com/laptop/lenovo-legion-pro-7-16irx9h-i9-83de001mvn      |\n",
      "|Lenovo Gaming Legion Slim 5 16AHP9 |Lenovo|Laptop     |R7 8845HS    |32 |1024|44990000 |41990000    |6.67           |990000   |0          |0.0         |https://www.thegioididong.com/laptop/lenovo-legion-slim-5-16ahp9-r7-83dh003bvn      |\n",
      "|Lenovo IdeaPad 1 15AMN7            |Lenovo|Laptop     |R5 7520U     |8  |256 |12690000 |9990000     |21.28          |NULL     |0          |0.0         |https://www.thegioididong.com/laptop/lenovo-ideapad-1-15amn7-r5-82vg0061vn          |\n",
      "|Lenovo IdeaPad Slim 5 14IMH9       |Lenovo|Laptop     |Ultra 7 155H |32 |1024|28690000 |27990000    |2.44           |990000   |0          |0.0         |https://www.thegioididong.com/laptop/lenovo-ideapad-slim-5-14imh9-ultra-7-83da0020vn|\n",
      "|Lenovo IdeaPad Slim 5 14IMH9       |Lenovo|Laptop     |Ultra 5 125H |16 |512 |22690000 |21990000    |3.09           |990000   |0          |0.0         |https://www.thegioididong.com/laptop/lenovo-ideapad-slim-5-14imh9-ultra-5-83da001nvn|\n",
      "|Lenovo Ideapad 1 15ALC7            |Lenovo|Laptop     |R7 5700U     |16 |512 |14490000 |12990000    |10.35          |NULL     |0          |0.0         |https://www.thegioididong.com/laptop/lenovo-ideapad-1-15alc7-r7-82r400c1vn          |\n",
      "|Lenovo Ideapad Slim 3 15AMN8       |Lenovo|Laptop     |R5 7520U     |16 |512 |14390000 |12490000    |13.2           |NULL     |0          |0.0         |https://www.thegioididong.com/laptop/lenovo-ideapad-slim-3-15amn8-r5-82xq00j0vn     |\n",
      "|Lenovo Ideapad Slim 3 15IAH8       |Lenovo|Laptop     |i5 12450H    |16 |512 |15990000 |14490000    |9.38           |NULL     |0          |0.0         |https://www.thegioididong.com/laptop/lenovo-ideapad-slim-3-15iah8-i5-83er00evn      |\n",
      "|Lenovo Ideapad Slim 3 15IRH8       |Lenovo|Laptop     |i7 13620H    |16 |1024|19490000 |18990000    |2.57           |NULL     |0          |0.0         |https://www.thegioididong.com/laptop/lenovo-ideapad-slim-3-15irh8-i7-83em003fvn     |\n",
      "|Lenovo Ideapad Slim 5 14IAH8       |Lenovo|Laptop     |i5 12450H    |16 |1024|18490000 |16790000    |9.19           |NULL     |0          |0.0         |https://www.thegioididong.com/laptop/lenovo-ideapad-5-14iah8-i5-83bf003wvn          |\n",
      "|Lenovo Ideapad Slim 5 14IMH9       |Lenovo|Laptop     |Ultra 7 155H |32 |512 |27690000 |26990000    |2.53           |990000   |0          |0.0         |https://www.thegioididong.com/laptop/lenovo-ideapad-slim-5-14imh9-ultra-7-83da001yvn|\n",
      "|Lenovo Ideapad Slim 5 15IRU9       |Lenovo|Laptop     |Core 5 120U  |16 |512 |21690000 |18490000    |14.75          |NULL     |0          |0.0         |https://www.thegioididong.com/laptop/lenovo-ideapad-slim-5-15iru9-core-5-83d0000evn |\n",
      "+-----------------------------------+------+-----------+-------------+---+----+---------+------------+---------------+---------+-----------+------------+------------------------------------------------------------------------------------+\n",
      "only showing top 20 rows\n",
      "\n"
     ]
    }
   ],
   "source": [
    "current_laptop_df, previous_laptop_df = load_data('laptop')\n",
    "if previous_laptop_df:\n",
    "    new_records = current_laptop_df.subtract(previous_laptop_df)\n",
    "    if new_records:\n",
    "        transformed_laptop_df = transform_data(new_records, 'laptop')\n",
    "else:\n",
    "    transformed_laptop_df = transform_data(current_laptop_df, 'laptop')\n",
    "transformed_laptop_df.show(truncate=False)    "
   ]
  },
  {
   "cell_type": "markdown",
   "metadata": {},
   "source": [
    "#### Danh mục máy tính bảng"
   ]
  },
  {
   "cell_type": "code",
   "execution_count": 6,
   "metadata": {},
   "outputs": [
    {
     "name": "stdout",
     "output_type": "stream",
     "text": [
      "+-------------------------------------+-----------+-------+----------------------+--------+------------+---------------+---------+-----------+------------+-------------------------------------------------------------------------------+\n",
      "|Name                                 |ProductType|Brand  |Screen                |OldPrice|CurrentPrice|DiscountPercent|GiftValue|TotalRating|AverageScore|ProductLink                                                                    |\n",
      "+-------------------------------------+-----------+-------+----------------------+--------+------------+---------------+---------+-----------+------------+-------------------------------------------------------------------------------+\n",
      "|Lenovo Tab                           |Laptop     |Lenovo |IPS LCD 10.95\"\"       |6690000 |6390000     |4.48           |NULL     |0          |0.0         |https://www.thegioididong.com/may-tinh-bang/lenovo-tab-m11-4g-8gb-128gb        |\n",
      "|Lenovo Tab                           |Laptop     |Lenovo |IPS LCD 10.95\"\"       |5790000 |5390000     |6.91           |NULL     |0          |0.0         |https://www.thegioididong.com/may-tinh-bang/lenovo-tab-m11-4g-4gb-64gb         |\n",
      "|Lenovo Tab                           |Laptop     |Lenovo |IPS LCD 10.95\"\"       |6190000 |5190000     |16.16          |NULL     |0          |0.0         |https://www.thegioididong.com/may-tinh-bang/lenovo-tab-m11-4g                  |\n",
      "|Lenovo Tab                           |Laptop     |Lenovo |IPS LCD 10.95\"\"       |5790000 |4790000     |17.27          |NULL     |0          |0.0         |https://www.thegioididong.com/may-tinh-bang/lenovo-tab-m11-wifi?utm_flashsale=1|\n",
      "|Lenovo Tab                           |Laptop     |Lenovo |IPS LCD 9\"\"           |NULL    |4390000     |NULL           |NULL     |0          |0.0         |https://www.thegioididong.com/may-tinh-bang/lenovo-tab-m9?utm_flashsale=1      |\n",
      "|Lenovo Tab                           |Laptop     |Lenovo |IPS LCD 9\"\"           |3790000 |2790000     |26.39          |NULL     |0          |0.0         |https://www.thegioididong.com/may-tinh-bang/lenovo-tab-m9-wifi-4gb-64gb        |\n",
      "|Lenovo Tab Plus WiFi 8GB/256GB       |Laptop     |Lenovo |IPS LCD 11.5\"\"        |7990000 |6990000     |12.52          |NULL     |0          |0.0         |https://www.thegioididong.com/may-tinh-bang/lenovo-tab-plus-wifi-8gb-256gb     |\n",
      "|Samsung Galaxy Tab S9 5G 12GB/256GB  |Laptop     |Samsung|Dynamic AMOLED 2X 11\"\"|24990000|19990000    |20.01          |NULL     |0          |0.0         |https://www.thegioididong.com/may-tinh-bang/samsung-galaxy-tab-s9-5g-256gb     |\n",
      "|Samsung Galaxy Tab S9 5G 8GB/128GB   |Laptop     |Samsung|Dynamic AMOLED 2X 11\"\"|22990000|16990000    |26.1           |NULL     |0          |0.0         |https://www.thegioididong.com/may-tinh-bang/samsung-galaxy-tab-s9-5g-128gb     |\n",
      "|Samsung Galaxy Tab S9 WiFi 12GB/256GB|Laptop     |Samsung|Dynamic AMOLED 2X 11\"\"|21990000|17990000    |18.19          |NULL     |0          |0.0         |https://www.thegioididong.com/may-tinh-bang/samsung-galaxy-tab-s9-wifi-256gb   |\n",
      "|Samsung Galaxy Tab S9 WiFi 8GB/128GB |Laptop     |Samsung|Dynamic AMOLED 2X 11\"\"|19990000|14490000    |27.51          |NULL     |0          |0.0         |https://www.thegioididong.com/may-tinh-bang/samsung-galaxy-tab-s9              |\n",
      "|TCL Tab 10 Gen 2 4G 4GB/64GB         |Laptop     |TCL    |IPS LCD 10.36\"\"       |3790000 |3090000     |18.47          |NULL     |0          |0.0         |https://www.thegioididong.com/may-tinh-bang/tcl-tab-10-gen-2                   |\n",
      "|TCL Tab 10L Gen 2 WiFi 3GB/32GB      |Laptop     |TCL    |IPS LCD 10.1\"\"        |2290000 |1990000     |13.1           |NULL     |0          |0.0         |https://www.thegioididong.com/may-tinh-bang/tcl-tab-10l-gen-2                  |\n",
      "+-------------------------------------+-----------+-------+----------------------+--------+------------+---------------+---------+-----------+------------+-------------------------------------------------------------------------------+\n",
      "\n"
     ]
    }
   ],
   "source": [
    "current_tablet_df, previous_tablet_df = load_data('may-tinh-bang')\n",
    "if previous_tablet_df:\n",
    "    new_records = current_tablet_df.subtract(previous_tablet_df)\n",
    "    if new_records:\n",
    "        transformed_tablet_df = transform_data(new_records, 'may-tinh-bang')\n",
    "else:\n",
    "    transformed_tablet_df = transform_data(current_tablet_df, 'may-tinh-bang')\n",
    "transformed_tablet_df.show(truncate=False)  "
   ]
  },
  {
   "cell_type": "markdown",
   "metadata": {},
   "source": [
    "#### Danh mục điện thoại"
   ]
  },
  {
   "cell_type": "code",
   "execution_count": 7,
   "metadata": {},
   "outputs": [
    {
     "name": "stdout",
     "output_type": "stream",
     "text": [
      "+--------------------------+-----------+--------------+--------------+--------+------------+---------------+---------+-----------+------------+-------------------------------------------------------+\n",
      "|Name                      |ProductType|Brand         |Screen        |OldPrice|CurrentPrice|DiscountPercent|GiftValue|TotalRating|AverageScore|ProductLink                                            |\n",
      "+--------------------------+-----------+--------------+--------------+--------+------------+---------------+---------+-----------+------------+-------------------------------------------------------+\n",
      "|ASUS Zenfone Max          |Laptop     |Asus (Zenfone)|HD+ 6.26\"\"    |NULL    |NULL        |NULL           |NULL     |0          |0.0         |https://www.thegioididong.com/dtdd/asus-zenfone-max-m2 |\n",
      "|Benco 4G G3Mẫu mới        |Laptop     |Benco         |QQVGA 1.77\"\"  |NULL    |380000      |NULL           |NULL     |0          |0.0         |https://www.thegioididong.com/dtdd/benco-4g-g3         |\n",
      "|HONOR 200 5G              |Laptop     |HONOR         |1.5K 6.7\"\"    |12990000|12490000    |3.85           |NULL     |0          |0.0         |https://www.thegioididong.com/dtdd/honor-200-12gb-256gb|\n",
      "|HONOR 90 5G 12GB/256GB    |Laptop     |HONOR         |1.5K 6.7\"\"    |NULL    |NULL        |NULL           |NULL     |0          |0.0         |https://www.thegioididong.com/dtdd/honor-90            |\n",
      "|HONOR X5 Plus 4GB/64GB    |Laptop     |HONOR         |HD+ 6.56\"\"    |NULL    |2490000     |NULL           |NULL     |0          |0.0         |https://www.thegioididong.com/dtdd/honor-x5-plus       |\n",
      "|HONOR X6a 4GB/128GB       |Laptop     |HONOR         |HD+ 6.56\"\"    |NULL    |NULL        |NULL           |NULL     |0          |0.0         |https://www.thegioididong.com/dtdd/honor-x6a           |\n",
      "|HONOR X6b                 |Laptop     |HONOR         |HD+ 6.56\"\"    |3990000 |3790000     |5.01           |599000   |0          |0.0         |https://www.thegioididong.com/dtdd/honor-x6b-6gb-128gb |\n",
      "|HONOR X7c 8GB/256GBMẫu mới|Laptop     |HONOR         |HD+ 6.77 \"\"   |NULL    |5490000     |NULL           |990000   |0          |0.0         |https://www.thegioididong.com/dtdd/honor-x7c           |\n",
      "|HONOR X8b 8GB/512GB       |Laptop     |HONOR         |Full HD+ 6.7\"\"|7690000 |6490000     |15.6           |NULL     |0          |0.0         |https://www.thegioididong.com/dtdd/honor-x8b           |\n",
      "|Itel it2600               |Laptop     |Itel          |QVGA 2\"\"      |NULL    |490000      |NULL           |NULL     |0          |0.0         |https://www.thegioididong.com/dtdd/itel-it2600         |\n",
      "|Itel it9211               |Laptop     |Itel          |2.4\"\"         |NULL    |490000      |NULL           |NULL     |0          |0.0         |https://www.thegioididong.com/dtdd/itel-it9211         |\n",
      "|Itel it9310               |Laptop     |Itel          |3\"\"           |NULL    |650000      |NULL           |NULL     |0          |0.0         |https://www.thegioididong.com/dtdd/itel-it9310         |\n",
      "|Masstel Fami 50 4G        |Laptop     |Masstel       |QQVGA 2\"\"     |NULL    |600000      |NULL           |NULL     |0          |0.0         |https://www.thegioididong.com/dtdd/masstel-fami-50     |\n",
      "|Masstel Fami 60S 4G       |Laptop     |Masstel       |QVGA 2\"\"      |NULL    |700000      |NULL           |NULL     |0          |0.0         |https://www.thegioididong.com/dtdd/masstel-fami-60s    |\n",
      "|Masstel IZI 10 4G         |Laptop     |Masstel       |QQVGA 1.77\"\"  |NULL    |410000      |NULL           |NULL     |0          |0.0         |https://www.thegioididong.com/dtdd/masstel-izi-10      |\n",
      "|Masstel IZI T6 4G         |Laptop     |Masstel       |QVGA 2.4\"\"    |NULL    |500000      |NULL           |NULL     |0          |0.0         |https://www.thegioididong.com/dtdd/masstel-izi-t6      |\n",
      "|Masstel Lux 10            |Laptop     |Masstel       |QVGA 2.4\"\"    |NULL    |420000      |NULL           |NULL     |0          |0.0         |https://www.thegioididong.com/dtdd/masstel-lux-10      |\n",
      "|Mobell                    |Laptop     |Mobell        |QVGA 2.8\"\"    |NULL    |700000      |NULL           |NULL     |0          |0.0         |https://www.thegioididong.com/dtdd/mobell-m539         |\n",
      "|Mobell                    |Laptop     |Mobell        |QVGA 2.4\"\"    |NULL    |550000      |NULL           |NULL     |0          |0.0         |https://www.thegioididong.com/dtdd/mobell-m331         |\n",
      "|Mobell                    |Laptop     |Mobell        |QQVGA 1.77\"\"  |NULL    |500000      |NULL           |NULL     |0          |0.0         |https://www.thegioididong.com/dtdd/mobell-m239         |\n",
      "+--------------------------+-----------+--------------+--------------+--------+------------+---------------+---------+-----------+------------+-------------------------------------------------------+\n",
      "only showing top 20 rows\n",
      "\n"
     ]
    }
   ],
   "source": [
    "current_phone_df, previous_phone_df = load_data('dtdd')\n",
    "if previous_phone_df:\n",
    "    new_records = current_phone_df.subtract(previous_phone_df)\n",
    "    if new_records:\n",
    "        transformed_phone_df = transform_data(new_records, 'dtdd')\n",
    "else:\n",
    "    transformed_phone_df = transform_data(current_phone_df, 'dtdd')\n",
    "transformed_phone_df.show(truncate=False)  "
   ]
  },
  {
   "cell_type": "markdown",
   "metadata": {},
   "source": [
    "#### Lấy thông tin toàn bộ các thương hiệu"
   ]
  },
  {
   "cell_type": "code",
   "execution_count": 8,
   "metadata": {},
   "outputs": [
    {
     "name": "stdout",
     "output_type": "stream",
     "text": [
      "+---+--------------+\n",
      "| ID|         Brand|\n",
      "+---+--------------+\n",
      "|  1|Asus (Zenfone)|\n",
      "|  2|         Benco|\n",
      "|  3|         HONOR|\n",
      "|  4|          Itel|\n",
      "|  5|        Lenovo|\n",
      "|  6|       Masstel|\n",
      "|  7|        Mobell|\n",
      "|  8|         Nokia|\n",
      "|  9|          OPPO|\n",
      "| 10|       Samsung|\n",
      "| 11|           TCL|\n",
      "| 12|         Tecno|\n",
      "| 13|       Viettel|\n",
      "| 14|        Xiaomi|\n",
      "| 15|iPhone (Apple)|\n",
      "| 16|        realme|\n",
      "| 17|          vivo|\n",
      "+---+--------------+\n",
      "\n"
     ]
    }
   ],
   "source": [
    "laptop_brands_df = transformed_laptop_df.select('Brand').distinct()\n",
    "tablet_brands_df = transformed_tablet_df.select('Brand').distinct()\n",
    "phone_brands_df = transformed_phone_df.select('Brand').distinct()\n",
    "\n",
    "brands = laptop_brands_df.union(tablet_brands_df.union(phone_brands_df)).dropDuplicates().orderBy('Brand')\n",
    "brands = brands.withColumn('ID', F.monotonically_increasing_id() + 1)\n",
    "brands = brands.select([\"ID\", \"Brand\"])\n",
    "brands.show()"
   ]
  },
  {
   "cell_type": "markdown",
   "metadata": {},
   "source": [
    "#### Tạo DataFrame chứa toàn bộ dữ liệu"
   ]
  },
  {
   "cell_type": "code",
   "execution_count": 9,
   "metadata": {},
   "outputs": [],
   "source": [
    "# Tạo các view để sử dụng Spark SQL\n",
    "transformed_laptop_df.createOrReplaceTempView(\"laptops\")\n",
    "transformed_tablet_df.createOrReplaceTempView(\"tablets\")\n",
    "transformed_phone_df.createOrReplaceTempView(\"phones\")\n",
    "brands.createOrReplaceTempView(\"brands\")"
   ]
  },
  {
   "cell_type": "code",
   "execution_count": 10,
   "metadata": {},
   "outputs": [
    {
     "name": "stderr",
     "output_type": "stream",
     "text": [
      "24/11/14 13:33:52 WARN GarbageCollectionMetrics: To enable non-built-in garbage collector(s) List(G1 Concurrent GC), users should configure it(them) to spark.eventLog.gcMetrics.youngGenerationGarbageCollectors or spark.eventLog.gcMetrics.oldGenerationGarbageCollectors\n"
     ]
    },
    {
     "name": "stdout",
     "output_type": "stream",
     "text": [
      "+---+----------------------------------+-----------+-------+--------+------------+---------------+---------+-----------------------------------------------------------------------------+\n",
      "|ID |Name                              |ProductType|BrandID|OldPrice|CurrentPrice|DiscountPercent|GiftValue|ProductLink                                                                  |\n",
      "+---+----------------------------------+-----------+-------+--------+------------+---------------+---------+-----------------------------------------------------------------------------+\n",
      "|1  |ASUS Zenfone Max                  |Laptop     |1      |NULL    |NULL        |NULL           |NULL     |https://www.thegioididong.com/dtdd/asus-zenfone-max-m2                       |\n",
      "|2  |Benco 4G G3Mẫu mới                |Laptop     |2      |NULL    |380000      |NULL           |NULL     |https://www.thegioididong.com/dtdd/benco-4g-g3                               |\n",
      "|3  |HONOR 200 5G                      |Laptop     |3      |12990000|12490000    |3.85           |NULL     |https://www.thegioididong.com/dtdd/honor-200-12gb-256gb                      |\n",
      "|4  |HONOR 90 5G 12GB/256GB            |Laptop     |3      |NULL    |NULL        |NULL           |NULL     |https://www.thegioididong.com/dtdd/honor-90                                  |\n",
      "|5  |HONOR X5 Plus 4GB/64GB            |Laptop     |3      |NULL    |2490000     |NULL           |NULL     |https://www.thegioididong.com/dtdd/honor-x5-plus                             |\n",
      "|6  |HONOR X6a 4GB/128GB               |Laptop     |3      |NULL    |NULL        |NULL           |NULL     |https://www.thegioididong.com/dtdd/honor-x6a                                 |\n",
      "|7  |HONOR X6b                         |Laptop     |3      |3990000 |3790000     |5.01           |599000   |https://www.thegioididong.com/dtdd/honor-x6b-6gb-128gb                       |\n",
      "|8  |HONOR X7c 8GB/256GBMẫu mới        |Laptop     |3      |NULL    |5490000     |NULL           |990000   |https://www.thegioididong.com/dtdd/honor-x7c                                 |\n",
      "|9  |HONOR X8b 8GB/512GB               |Laptop     |3      |7690000 |6490000     |15.6           |NULL     |https://www.thegioididong.com/dtdd/honor-x8b                                 |\n",
      "|10 |Itel it2600                       |Laptop     |4      |NULL    |490000      |NULL           |NULL     |https://www.thegioididong.com/dtdd/itel-it2600                               |\n",
      "|11 |Itel it9211                       |Laptop     |4      |NULL    |490000      |NULL           |NULL     |https://www.thegioididong.com/dtdd/itel-it9211                               |\n",
      "|12 |Itel it9310                       |Laptop     |4      |NULL    |650000      |NULL           |NULL     |https://www.thegioididong.com/dtdd/itel-it9310                               |\n",
      "|13 |Lenovo Gaming LOQ 15ARP9          |Laptop     |5      |29490000|26990000    |8.48           |NULL     |https://www.thegioididong.com/laptop/lenovo-loq-15arp9-r7-83jc0040vn         |\n",
      "|14 |Lenovo Gaming LOQ 15IAX9          |Laptop     |5      |23490000|20890000    |11.07          |NULL     |https://www.thegioididong.com/laptop/lenovo-loq-15iax9-i5-83gs00dbvn         |\n",
      "|15 |Lenovo Gaming LOQ 15IAX9          |Laptop     |5      |25490000|22990000    |9.81           |NULL     |https://www.thegioididong.com/laptop/lenovo-loq-15iax9-i5-83gs00d9vn         |\n",
      "|16 |Lenovo Gaming LOQ 15IAX9          |Laptop     |5      |24990000|21990000    |12.0           |NULL     |https://www.thegioididong.com/laptop/lenovo-loq-gaming-15iax9-i5-83gs000jvn  |\n",
      "|17 |Lenovo Gaming LOQ 15IRX9          |Laptop     |5      |32990000|29890000    |9.4            |NULL     |https://www.thegioididong.com/laptop/lenovo-loq-15irx9-i7-83dv00d5vn         |\n",
      "|18 |Lenovo Gaming Legion 5 16IRX9     |Laptop     |5      |45990000|42990000    |6.52           |NULL     |https://www.thegioididong.com/laptop/lenovo-legion-5-16irx9-i7-83dg0051vn    |\n",
      "|19 |Lenovo Gaming Legion Pro 5 16IRX9 |Laptop     |5      |56990000|54990000    |3.51           |NULL     |https://www.thegioididong.com/laptop/lenovo-legion-pro-5-16irx9-i9-83df0046vn|\n",
      "|20 |Lenovo Gaming Legion Pro 5 16IRX9 |Laptop     |5      |49990000|47990000    |4.0            |NULL     |https://www.thegioididong.com/laptop/lenovo-legion-pro-5-16irx9-i9-83df0047vn|\n",
      "+---+----------------------------------+-----------+-------+--------+------------+---------------+---------+-----------------------------------------------------------------------------+\n",
      "only showing top 20 rows\n",
      "\n"
     ]
    }
   ],
   "source": [
    "def retrieve_product_info(product_type):\n",
    "    \"\"\" Trích xuất các thông tin chung của từng sản phẩm\n",
    "    \n",
    "    Args:\n",
    "        product_type(str): Loại sản phẩm\n",
    "        \n",
    "    Returns:\n",
    "        Spark DataFrame: Dữ liệu sau khi được trích xuất\n",
    "    \"\"\"\n",
    "    query = f\"\"\" SELECT \n",
    "                    Name, \n",
    "                    ProductType, \n",
    "                    brands.ID as BrandID, \n",
    "                    OldPrice, \n",
    "                    CurrentPrice, \n",
    "                    DiscountPercent, \n",
    "                    GiftValue, \n",
    "                    ProductLink\n",
    "                FROM {product_type} JOIN brands \n",
    "                ON {product_type}.Brand = brands.Brand\n",
    "            \"\"\"\n",
    "    product_info = spark.sql(query)\n",
    "    return product_info\n",
    "\n",
    "laptops_info = retrieve_product_info('laptops')\n",
    "tablets_info = retrieve_product_info('tablets')\n",
    "phones_info = retrieve_product_info('phones')\n",
    "\n",
    "product_info = laptops_info.union(tablets_info.union(phones_info)).orderBy('Name', ascending=[1])\n",
    "product_info = product_info.withColumn('ID', F.monotonically_increasing_id() + 1)\n",
    "product_info = product_info.select([\"ID\", \"Name\", \"ProductType\", \"BrandID\", \"OldPrice\", \"CurrentPrice\", \"DiscountPercent\", \"GiftValue\", \"ProductLink\"])\n",
    "product_info.show(truncate=False)"
   ]
  },
  {
   "cell_type": "code",
   "execution_count": 11,
   "metadata": {},
   "outputs": [
    {
     "name": "stdout",
     "output_type": "stream",
     "text": [
      "+---------+----------------------------------+-----------+----+----+--------------+\n",
      "|ProductID|Name                              |Core       |RAM |SSD |Screen        |\n",
      "+---------+----------------------------------+-----------+----+----+--------------+\n",
      "|1        |ASUS Zenfone Max                  |NULL       |NULL|NULL|HD+ 6.26\"\"    |\n",
      "|2        |Benco 4G G3Mẫu mới                |NULL       |NULL|NULL|QQVGA 1.77\"\"  |\n",
      "|3        |HONOR 200 5G                      |NULL       |NULL|NULL|1.5K 6.7\"\"    |\n",
      "|4        |HONOR 90 5G 12GB/256GB            |NULL       |NULL|NULL|1.5K 6.7\"\"    |\n",
      "|5        |HONOR X5 Plus 4GB/64GB            |NULL       |NULL|NULL|HD+ 6.56\"\"    |\n",
      "|6        |HONOR X6a 4GB/128GB               |NULL       |NULL|NULL|HD+ 6.56\"\"    |\n",
      "|7        |HONOR X6b                         |NULL       |NULL|NULL|HD+ 6.56\"\"    |\n",
      "|8        |HONOR X7c 8GB/256GBMẫu mới        |NULL       |NULL|NULL|HD+ 6.77 \"\"   |\n",
      "|9        |HONOR X8b 8GB/512GB               |NULL       |NULL|NULL|Full HD+ 6.7\"\"|\n",
      "|10       |Itel it2600                       |NULL       |NULL|NULL|QVGA 2\"\"      |\n",
      "|11       |Itel it9211                       |NULL       |NULL|NULL|2.4\"\"         |\n",
      "|12       |Itel it9310                       |NULL       |NULL|NULL|3\"\"           |\n",
      "|13       |Lenovo Gaming LOQ 15ARP9          |R7 7435HS  |24  |512 |NULL          |\n",
      "|14       |Lenovo Gaming LOQ 15IAX9          |i5 12450HX |24  |512 |NULL          |\n",
      "|15       |Lenovo Gaming LOQ 15IAX9          |i5 12450HX |16  |512 |NULL          |\n",
      "|16       |Lenovo Gaming LOQ 15IAX9          |i5 12450HX |24  |512 |NULL          |\n",
      "|17       |Lenovo Gaming LOQ 15IRX9          |i7 13650HX |16  |512 |NULL          |\n",
      "|18       |Lenovo Gaming Legion 5 16IRX9     |i7 14650HX |16  |1024|NULL          |\n",
      "|19       |Lenovo Gaming Legion Pro 5 16IRX9 |i9 14900HX |32  |1024|NULL          |\n",
      "|20       |Lenovo Gaming Legion Pro 5 16IRX9 |i9 14900HX |32  |1024|NULL          |\n",
      "+---------+----------------------------------+-----------+----+----+--------------+\n",
      "only showing top 20 rows\n",
      "\n"
     ]
    }
   ],
   "source": [
    "def retrieve_product_spec(product_type):\n",
    "    \"\"\" Trích xuất các thông số kĩ thuật của từng sản phẩm\n",
    "    \n",
    "    Args:\n",
    "        product_type(str): Loại sản phẩm\n",
    "        \n",
    "    Returns:\n",
    "        Spark DataFrame: Dữ liệu sau khi được trích xuất\n",
    "    \"\"\"\n",
    "    if product_type == 'laptops':\n",
    "        query = f\"\"\"SELECT \n",
    "                       Name, Core, RAM, SSD, 'NULL' AS Screen\n",
    "                    FROM {product_type}\n",
    "                \"\"\"\n",
    "    else:\n",
    "        query = f\"\"\"SELECT \n",
    "                       Name, 'NULL' AS Core, 'NULL' AS RAM, 'NULL' AS SSD, Screen\n",
    "                    FROM {product_type}\n",
    "                \"\"\"\n",
    "        \n",
    "    product_spec = spark.sql(query)\n",
    "    return product_spec\n",
    "\n",
    "laptops_spec = retrieve_product_spec('laptops')\n",
    "tablets_spec = retrieve_product_spec('tablets')\n",
    "phones_spec = retrieve_product_spec('phones')\n",
    "\n",
    "product_spec = laptops_spec.union(tablets_spec.union(phones_spec)).orderBy(\"Name\", ascending=[1])\n",
    "product_spec = product_spec.withColumn('ProductID', F.monotonically_increasing_id() + 1)\n",
    "product_spec = product_spec.select([\"ProductID\", \"Name\", \"Core\", \"RAM\", \"SSD\", \"Screen\"])\n",
    "product_spec.show(truncate=False)"
   ]
  },
  {
   "cell_type": "code",
   "execution_count": 12,
   "metadata": {},
   "outputs": [
    {
     "name": "stdout",
     "output_type": "stream",
     "text": [
      "+---------+----------------------------------+-----------+------------+\n",
      "|ProductID|Name                              |TotalRating|AverageScore|\n",
      "+---------+----------------------------------+-----------+------------+\n",
      "|1        |ASUS Zenfone Max                  |0          |0.0         |\n",
      "|2        |Benco 4G G3Mẫu mới                |0          |0.0         |\n",
      "|3        |HONOR 200 5G                      |0          |0.0         |\n",
      "|4        |HONOR 90 5G 12GB/256GB            |0          |0.0         |\n",
      "|5        |HONOR X5 Plus 4GB/64GB            |0          |0.0         |\n",
      "|6        |HONOR X6a 4GB/128GB               |0          |0.0         |\n",
      "|7        |HONOR X6b                         |0          |0.0         |\n",
      "|8        |HONOR X7c 8GB/256GBMẫu mới        |0          |0.0         |\n",
      "|9        |HONOR X8b 8GB/512GB               |0          |0.0         |\n",
      "|10       |Itel it2600                       |0          |0.0         |\n",
      "|11       |Itel it9211                       |0          |0.0         |\n",
      "|12       |Itel it9310                       |0          |0.0         |\n",
      "|13       |Lenovo Gaming LOQ 15ARP9          |0          |0.0         |\n",
      "|14       |Lenovo Gaming LOQ 15IAX9          |0          |0.0         |\n",
      "|15       |Lenovo Gaming LOQ 15IAX9          |0          |0.0         |\n",
      "|16       |Lenovo Gaming LOQ 15IAX9          |0          |0.0         |\n",
      "|17       |Lenovo Gaming LOQ 15IRX9          |0          |0.0         |\n",
      "|18       |Lenovo Gaming Legion 5 16IRX9     |0          |0.0         |\n",
      "|19       |Lenovo Gaming Legion Pro 5 16IRX9 |0          |0.0         |\n",
      "|20       |Lenovo Gaming Legion Pro 5 16IRX9 |0          |0.0         |\n",
      "+---------+----------------------------------+-----------+------------+\n",
      "only showing top 20 rows\n",
      "\n"
     ]
    }
   ],
   "source": [
    "def retrieve_product_rating(product_type):\n",
    "    \"\"\" Trích xuất các thoog+ng tin đánh giá của khách hàng đối với từng sản phẩm\n",
    "    \n",
    "    Args:\n",
    "        product_type(str): Loại sản phẩm\n",
    "        \n",
    "    Returns:\n",
    "        Spark DataFrame: Dữ liệu sau khi được trích xuất\n",
    "    \"\"\"\n",
    "    query = f\"\"\"SELECT \n",
    "                    Name, TotalRating, AverageScore\n",
    "                FROM {product_type}\n",
    "               \"\"\"\n",
    "\n",
    "    product_rating = spark.sql(query)\n",
    "    return product_rating\n",
    "\n",
    "laptops_rating = retrieve_product_rating('laptops')\n",
    "tablets_rating = retrieve_product_rating('tablets')\n",
    "phones_rating = retrieve_product_rating('phones')\n",
    "\n",
    "product_rating = laptops_rating.union(tablets_rating.union(phones_rating)).orderBy(\"Name\", ascending=[1])\n",
    "product_rating = product_rating.withColumn('ProductID', F.monotonically_increasing_id() + 1)\n",
    "product_rating = product_rating.select([\"ProductID\", \"Name\", \"TotalRating\", \"AverageScore\"])\n",
    "product_rating.show(truncate=False)"
   ]
  },
  {
   "cell_type": "code",
   "execution_count": null,
   "metadata": {},
   "outputs": [],
   "source": [
    "# Lưu dữ liệu đã biến đổi và trích xuất vào máy\n",
    "file_path = os.getcwd()\n",
    "data_path = os.path.join(file_path, 'data/processed')\n",
    "\n",
    "if not os.path.exists(data_path):\n",
    "    os.makedirs(data_path)\n",
    "    \n",
    "brands.toPandas().to_csv(f'{data_path}/brands.csv', index=False, header=True, mode='a')\n",
    "product_info.toPandas().to_csv(f'{data_path}/product_info.csv', index=False, header=True, mode='a')\n",
    "product_spec.toPandas().to_csv(f'{data_path}/product_spec.csv', index=False, header=True, mode='a')\n",
    "product_rating.toPandas().to_csv(f'{data_path}/product_rating.csv', index=False, header=True, mode='a')"
   ]
  }
 ],
 "metadata": {
  "kernelspec": {
   "display_name": "venv",
   "language": "python",
   "name": "python3"
  },
  "language_info": {
   "codemirror_mode": {
    "name": "ipython",
    "version": 3
   },
   "file_extension": ".py",
   "mimetype": "text/x-python",
   "name": "python",
   "nbconvert_exporter": "python",
   "pygments_lexer": "ipython3",
   "version": "3.12.3"
  }
 },
 "nbformat": 4,
 "nbformat_minor": 2
}
